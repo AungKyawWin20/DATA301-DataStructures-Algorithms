{
 "cells": [
  {
   "cell_type": "code",
   "execution_count": 9,
   "metadata": {},
   "outputs": [
    {
     "name": "stdout",
     "output_type": "stream",
     "text": [
      "[1, 2, 3, 4]\n",
      "[1, 2, 3]\n",
      "False\n"
     ]
    }
   ],
   "source": [
    "stack = [1,2,3]\n",
    "\n",
    "stack.append(4)\n",
    "\n",
    "print(stack)\n",
    "\n",
    "stack.pop()\n",
    "\n",
    "print(stack)\n",
    "\n",
    "print(stack == None)"
   ]
  },
  {
   "cell_type": "code",
   "execution_count": 8,
   "metadata": {},
   "outputs": [],
   "source": [
    "class ArrayStack:\n",
    "    def __init__(self):\n",
    "        self._data = []\n",
    "        \n",
    "    def __len__(self):\n",
    "        return len(self._data)\n",
    "    \n",
    "    def is_empty(self):\n",
    "        return len(self._data) == None\n",
    "    \n",
    "    def push(self, item):\n",
    "        self._data.append(item)\n",
    "        \n",
    "    def top(self):\n",
    "        if self.is_empty():\n",
    "            raise IndexError\n",
    "        return self._data[-1]\n",
    "    \n",
    "    def pop(self):\n",
    "        if self.is_empty():\n",
    "            raise IndexError\n",
    "        return self._data.pop()"
   ]
  },
  {
   "cell_type": "code",
   "execution_count": 7,
   "metadata": {},
   "outputs": [
    {
     "name": "stdout",
     "output_type": "stream",
     "text": [
      "[7, 4, 5, 1, 2]\n",
      "[7, 4]\n",
      "[7, 4, 6, 3, 9]\n"
     ]
    }
   ],
   "source": [
    "Stack = [7,4,5,1,2]\n",
    "\n",
    "S = ArrayStack()\n",
    "for i in Stack:\n",
    "\tS.push(i)\n",
    " \n",
    " \n",
    "print(S._data)\n",
    "\n",
    "S.pop()\n",
    "S.pop()\n",
    "S.pop()\n",
    "\n",
    "print(S._data)\n",
    "\n",
    "Numbers = [6,3,9]\n",
    "for i in Numbers:\n",
    "    S.push(i)\n",
    "\n",
    "print(S._data) "
   ]
  }
 ],
 "metadata": {
  "kernelspec": {
   "display_name": "base",
   "language": "python",
   "name": "python3"
  },
  "language_info": {
   "codemirror_mode": {
    "name": "ipython",
    "version": 3
   },
   "file_extension": ".py",
   "mimetype": "text/x-python",
   "name": "python",
   "nbconvert_exporter": "python",
   "pygments_lexer": "ipython3",
   "version": "3.12.2"
  }
 },
 "nbformat": 4,
 "nbformat_minor": 2
}
