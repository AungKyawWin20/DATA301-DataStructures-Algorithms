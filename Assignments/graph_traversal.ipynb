{
 "cells": [
  {
   "cell_type": "code",
   "execution_count": 2,
   "id": "cb796f9a",
   "metadata": {},
   "outputs": [
    {
     "name": "stdout",
     "output_type": "stream",
     "text": [
      "BFS Traversal Order: ['H', 'E', 'I', 'C', 'F', 'B', 'G']\n"
     ]
    }
   ],
   "source": [
    "from collections import deque\n",
    "\n",
    "def bfs(graph, start_node):\n",
    "    visited = set()\n",
    "    queue = deque([start_node])\n",
    "    traversal_order = []\n",
    "\n",
    "    while queue:\n",
    "        node = queue.popleft()\n",
    "        if node not in visited:\n",
    "            visited.add(node)\n",
    "            traversal_order.append(node)\n",
    "            for neighbor in graph[node]:\n",
    "                if neighbor not in visited:\n",
    "                    queue.append(neighbor)\n",
    "    return traversal_order\n",
    "\n",
    "# Adjacency list for your graph\n",
    "graph = {\n",
    "    'A': ['B', 'C', 'D'],\n",
    "    'B': ['E'],\n",
    "    'C': ['B', 'G'],\n",
    "    'D': ['C', 'G'],\n",
    "    'E': ['C', 'F'],\n",
    "    'F': ['C', 'H'],\n",
    "    'G': ['F','H', 'I'],\n",
    "    'H': ['E', 'I'],\n",
    "    'I': ['F']\n",
    "}\n",
    "\n",
    "start_node = 'H'\n",
    "print(\"BFS Traversal Order:\", bfs(graph, start_node))"
   ]
  },
  {
   "cell_type": "code",
   "execution_count": 6,
   "id": "5dd4fb13",
   "metadata": {},
   "outputs": [
    {
     "name": "stdout",
     "output_type": "stream",
     "text": [
      "DFS Traversal Order: ['D', 'C', 'B', 'E', 'F', 'H', 'I', 'G']\n"
     ]
    }
   ],
   "source": [
    "def dfs(graph, start_node):\n",
    "    visited = set()\n",
    "    traversal_order = []\n",
    "\n",
    "    def dfs_helper(node):\n",
    "        if node not in visited:\n",
    "            visited.add(node)\n",
    "            traversal_order.append(node)\n",
    "            for neighbor in graph[node]:\n",
    "                dfs_helper(neighbor)\n",
    "\n",
    "    dfs_helper(start_node)\n",
    "    return traversal_order\n",
    "\n",
    "# Example usage:\n",
    "graph = {\n",
    "    'A': ['B', 'C', 'D'],\n",
    "    'B': ['E'],\n",
    "    'C': ['B', 'G'],\n",
    "    'D': ['C', 'G'],\n",
    "    'E': ['C', 'F'],\n",
    "    'F': ['C', 'H'],\n",
    "    'G': ['F','H', 'I'],\n",
    "    'H': ['E', 'I'],\n",
    "    'I': ['F']\n",
    "}\n",
    "\n",
    "start_node = 'D'\n",
    "print(\"DFS Traversal Order:\", dfs(graph, start_node))"
   ]
  }
 ],
 "metadata": {
  "kernelspec": {
   "display_name": "Python 3",
   "language": "python",
   "name": "python3"
  },
  "language_info": {
   "codemirror_mode": {
    "name": "ipython",
    "version": 3
   },
   "file_extension": ".py",
   "mimetype": "text/x-python",
   "name": "python",
   "nbconvert_exporter": "python",
   "pygments_lexer": "ipython3",
   "version": "3.12.2"
  }
 },
 "nbformat": 4,
 "nbformat_minor": 5
}
