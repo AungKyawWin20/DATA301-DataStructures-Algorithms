{
  "cells": [
    {
      "cell_type": "markdown",
      "metadata": {
        "id": "PgrDbkCFw0Nl"
      },
      "source": [
        "# BST Student Record System - Starter Template\n",
        "\n",
        "This notebook is your template to implement and test a Binary Search Tree (BST) for managing student records.\n",
        "You will implement insert, search, delete, and in-order traversal operations.\n",
        "\n",
        "Each student record includes:\n",
        "- `id` (int): Student ID\n",
        "- `name` (str): Full name\n",
        "- `gpa` (float): Grade Point Average\n",
        "\n",
        "Fill in the missing parts of the code marked with `# TODO`.\n"
      ],
      "id": "PgrDbkCFw0Nl"
    },
    {
      "cell_type": "code",
      "execution_count": null,
      "metadata": {
        "id": "WXDuh0U6w0Nn"
      },
      "outputs": [],
      "source": [
        "# Define the data structure for student record and BST node\n",
        "class StudentRecord:\n",
        "    def __init__(self, id, name, gpa):\n",
        "        self.id = id\n",
        "        self.name = name\n",
        "        self.gpa = gpa\n",
        "\n",
        "class BSTNode:\n",
        "    def __init__(self, record):\n",
        "        self.record = record\n",
        "        self.left = None\n",
        "        self.right = None"
      ],
      "id": "WXDuh0U6w0Nn"
    },
    {
      "source": [
        "class StudentBST:\n",
        "    def __init__(self):\n",
        "        self.root = None\n",
        "\n",
        "    def insert(self, record):\n",
        "        if self.root is None:\n",
        "            self.root = BSTNode(record)\n",
        "        else:\n",
        "            self._insert_recursive(self.root, record)\n",
        "\n",
        "    def _insert_recursive(self, node, record):\n",
        "        if record.id < node.record.id:\n",
        "            if node.left is None:\n",
        "                node.left = BSTNode(record)\n",
        "            else:\n",
        "                self._insert_recursive(node.left, record)\n",
        "        else:\n",
        "            if node.right is None:\n",
        "                node.right = BSTNode(record)\n",
        "            else:\n",
        "                self._insert_recursive(node.right, record)\n",
        "\n",
        "    def search(self, id):\n",
        "        return self._search_recursive(self.root, id)\n",
        "\n",
        "    def _search_recursive(self, node, id):\n",
        "        if node is None or node.record.id == id:\n",
        "            return node\n",
        "        if id < node.record.id:\n",
        "            return self._search_recursive(node.left, id)\n",
        "        else:\n",
        "            return self._search_recursive(node.right, id)\n",
        "\n",
        "    def delete(self, id):\n",
        "        self.root = self._delete_recursive(self.root, id)\n",
        "\n",
        "    def _delete_recursive(self, node, id):\n",
        "        if node is None:\n",
        "            return node\n",
        "        if id < node.record.id:\n",
        "            node.left = self._delete_recursive(node.left, id)\n",
        "        elif id > node.record.id:\n",
        "            node.right = self._delete_recursive(node.right, id)\n",
        "        else:\n",
        "            if node.left is None:\n",
        "                return node.right\n",
        "            elif node.right is None:\n",
        "                return node.left\n",
        "            temp = self._min_value_node(node.right)\n",
        "            node.record = temp.record\n",
        "            node.right = self._delete_recursive(node.right, temp.record.id)\n",
        "        return node\n",
        "\n",
        "    def _min_value_node(self, node):\n",
        "        current = node\n",
        "        while current.left is not None:\n",
        "            current = current.left\n",
        "        return current\n",
        "\n",
        "    def inorder(self):\n",
        "        self._inorder_recursive(self.root)\n",
        "\n",
        "    def _inorder_recursive(self, node):\n",
        "        if node:\n",
        "            self._inorder_recursive(node.left)\n",
        "            print(f\"Student ID: {node.record.id}, Name: {node.record.name}, GPA: {node.record.gpa}\")\n",
        "            self._inorder_recursive(node.right)"
      ],
      "cell_type": "code",
      "metadata": {
        "id": "yl8xEQnQa4uf"
      },
      "id": "yl8xEQnQa4uf",
      "execution_count": null,
      "outputs": []
    },
    {
      "cell_type": "markdown",
      "metadata": {
        "id": "ZMFKdwh6w0No"
      },
      "source": [
        "## Test Cases\n",
        "Use the following test inputs to test your implementation.\n",
        "\n",
        "**Sample Student Records:**\n",
        "```python\n",
        "students = [\n",
        "    (1023, \"Alice\", 3.8),\n",
        "    (1011, \"Bob\", 3.5),\n",
        "    (1045, \"Charlie\", 3.9),\n",
        "    (1008, \"David\", 3.2),\n",
        "    (1032, \"Eva\", 3.6)\n",
        "]\n",
        "```\n",
        "\n",
        "**Expected In-Order Output (Before Deletion):**\n",
        "```\n",
        "Student ID: 1008, Name: David, GPA: 3.2\n",
        "Student ID: 1011, Name: Bob, GPA: 3.5\n",
        "Student ID: 1023, Name: Alice, GPA: 3.8\n",
        "Student ID: 1032, Name: Eva, GPA: 3.6\n",
        "Student ID: 1045, Name: Charlie, GPA: 3.9\n",
        "```\n",
        "\n",
        "**Expected In-Order Output (After Deleting ID 1011):**\n",
        "```\n",
        "Student ID: 1008, Name: David, GPA: 3.2\n",
        "Student ID: 1023, Name: Alice, GPA: 3.8\n",
        "Student ID: 1032, Name: Eva, GPA: 3.6\n",
        "Student ID: 1045, Name: Charlie, GPA: 3.9\n",
        "```"
      ],
      "id": "ZMFKdwh6w0No"
    },
    {
      "cell_type": "code",
      "execution_count": null,
      "metadata": {
        "id": "gdtnQNyfw0No",
        "colab": {
          "base_uri": "https://localhost:8080/"
        },
        "outputId": "bd65e808-d155-42fb-834e-04e590f8b05b"
      },
      "outputs": [
        {
          "output_type": "stream",
          "name": "stdout",
          "text": [
            "In-Order Traversal Before Deletion:\n",
            "Student ID: 1008, Name: David, GPA: 3.2\n",
            "Student ID: 1011, Name: Bob, GPA: 3.5\n",
            "Student ID: 1023, Name: Alice, GPA: 3.8\n",
            "Student ID: 1032, Name: Eva, GPA: 3.6\n",
            "Student ID: 1045, Name: Charlie, GPA: 3.9\n",
            "\n",
            "In-Order Traversal After Deletion of ID 1011:\n",
            "Student ID: 1008, Name: David, GPA: 3.2\n",
            "Student ID: 1023, Name: Alice, GPA: 3.8\n",
            "Student ID: 1032, Name: Eva, GPA: 3.6\n",
            "Student ID: 1045, Name: Charlie, GPA: 3.9\n"
          ]
        }
      ],
      "source": [
        "# 🔧 Example usage (you will complete the missing logic above first)\n",
        "tree = StudentBST()\n",
        "\n",
        "# Insert students\n",
        "students = [\n",
        "    (1023, \"Alice\", 3.8),\n",
        "    (1011, \"Bob\", 3.5),\n",
        "    (1045, \"Charlie\", 3.9),\n",
        "    (1008, \"David\", 3.2),\n",
        "    (1032, \"Eva\", 3.6)\n",
        "]\n",
        "\n",
        "for sid, name, gpa in students:\n",
        "    tree.insert(StudentRecord(sid, name, gpa))\n",
        "\n",
        "print(\"In-Order Traversal Before Deletion:\")\n",
        "tree.inorder()\n",
        "\n",
        "tree.delete(1011)\n",
        "print(\"\\nIn-Order Traversal After Deletion of ID 1011:\")\n",
        "tree.inorder()"
      ],
      "id": "gdtnQNyfw0No"
    }
  ],
  "metadata": {
    "kernelspec": {
      "display_name": "Python 3",
      "language": "python",
      "name": "python3"
    },
    "language_info": {
      "name": "python",
      "version": "3.10"
    },
    "colab": {
      "provenance": []
    }
  },
  "nbformat": 4,
  "nbformat_minor": 5
}