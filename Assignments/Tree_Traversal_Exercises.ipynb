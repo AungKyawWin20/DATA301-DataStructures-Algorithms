{
  "cells": [
    {
      "cell_type": "code",
      "execution_count": null,
      "metadata": {
        "id": "5JgirY80kM2G"
      },
      "outputs": [],
      "source": [
        "           Arthur (King)\n",
        "           /           \\\n",
        "   Lancelot (Knight)  Guinevere (Queen)\n",
        "      /                     \\\n",
        "Galahad (Squire)         Elaine (Princess)\n"
      ]
    },
    {
      "cell_type": "code",
      "execution_count": 28,
      "metadata": {
        "id": "Vz9PNCbFj6LI"
      },
      "outputs": [
        {
          "name": "stdout",
          "output_type": "stream",
          "text": [
            "King Arthur\n",
            "Knight Lancelot\n",
            "Squire Galahad\n",
            "Queen Guinevere\n",
            "Princess Elaine\n",
            "None\n",
            "Squire Galahad\n",
            "Knight Lancelot\n",
            "King Arthur\n",
            "Queen Guinevere\n",
            "Princess Elaine\n",
            "None\n",
            "Squire Galahad\n",
            "Knight Lancelot\n",
            "Princess Elaine\n",
            "Queen Guinevere\n",
            "King Arthur\n",
            "None\n"
          ]
        }
      ],
      "source": [
        "# Task: Build a binary family tree and implement preorder, inorder, postorder traversals\n",
        "\n",
        "class FamilyMember:\n",
        "    def __init__(self, name, age, title):\n",
        "        self.name = name\n",
        "        self.age = age\n",
        "        self.title = title\n",
        "        self.left = None\n",
        "        self.right = None\n",
        "\n",
        "# Example: Create root member\n",
        "root = FamilyMember(\"Arthur\", 60, \"King\")\n",
        "\n",
        "# Add children and grandchildren nodes\n",
        "root.left = FamilyMember(\"Lancelot\", 40, \"Knight\")\n",
        "root.right = FamilyMember(\"Guinevere\", 58, \"Queen\")\n",
        "\n",
        "root.left.left = FamilyMember(\"Galahad\", 12, \"Squire\")\n",
        "root.right.right = FamilyMember(\"Elaine\", 28, \"Princess\")\n",
        "\n",
        "# Implement tree traversals\n",
        "def preorder(node):\n",
        "    if node:\n",
        "        print(f\"{node.title} {node.name}\")\n",
        "        preorder(node.left)\n",
        "        preorder(node.right)\n",
        "\n",
        "def inorder(node):\n",
        "    if node:\n",
        "        inorder(node.left)\n",
        "        print(f\"{node.title} {node.name}\")\n",
        "        inorder(node.right)\n",
        "\n",
        "def postorder(node):\n",
        "    if node:\n",
        "        postorder(node.left)\n",
        "        postorder(node.right)\n",
        "        print(f\"{node.title} {node.name}\")\n",
        "\n",
        "# Call the traversals\n",
        "print(preorder(root))\n",
        "print(inorder(root))\n",
        "print(postorder(root))"
      ]
    },
    {
      "cell_type": "code",
      "execution_count": null,
      "metadata": {
        "id": "eToItP5StdU0"
      },
      "outputs": [],
      "source": [
        "             Main Gate\n",
        "             /       \\\n",
        "   Reptile House   Bird Sanctuary\n",
        "        |             /        \\\n",
        "   Snake Pit    Penguin Zone   Lion Zone\n"
      ]
    },
    {
      "cell_type": "markdown",
      "metadata": {
        "id": "GlJHRJb2tk6b"
      },
      "source": [
        "When using DFS-based traversal (list_paths()), the output should be:\n",
        "\n",
        "Main Gate -> Reptile House -> Snake Pit  \n",
        "Main Gate -> Bird Sanctuary -> Penguin Zone  \n",
        "Main Gate -> Bird Sanctuary -> Lion Zone\n",
        "\n",
        "When searching with find_animal_path(entrance, \"Penguin Zone\", []), the output should be:\n",
        "\n",
        "['Main Gate', 'Bird Sanctuary', 'Penguin Zone']\n",
        "\n"
      ]
    },
    {
      "cell_type": "code",
      "execution_count": null,
      "metadata": {
        "id": "uSGbdyd4kFBJ"
      },
      "outputs": [
        {
          "name": "stdout",
          "output_type": "stream",
          "text": [
            "['Main Gate', 'Bird Sanctuary', 'Penguin Zone']\n"
          ]
        }
      ],
      "source": [
        "# Task: Represent zoo as a tree and search for animal locations using DFS\n",
        "\n",
        "class ZooZone:\n",
        "    def __init__(self, name):\n",
        "        self.name = name\n",
        "        self.children = []\n",
        "\n",
        "# Build tree\n",
        "entrance = ZooZone(\"Main Gate\")\n",
        "reptile_house = ZooZone(\"Reptile House\")\n",
        "bird_sanctuary = ZooZone(\"Bird Sanctuary\")\n",
        "snake_pit = ZooZone(\"Snake Pit\")\n",
        "penguin_zone = ZooZone(\"Penguin Zone\")\n",
        "lion_zone = ZooZone(\"Lion Zone\")\n",
        "\n",
        "# Add children to represent the tree structure\n",
        "entrance.children = [reptile_house, bird_sanctuary]\n",
        "reptile_house.children = [snake_pit]\n",
        "bird_sanctuary.children = [penguin_zone, lion_zone]\n",
        "\n",
        "def list_paths(node, path):\n",
        "    if node:\n",
        "        path.append(node.name)\n",
        "        if not node.children:  \n",
        "            print(\" -> \".join(path))\n",
        "        else:\n",
        "            for child in node.children:\n",
        "                list_paths(child, path)\n",
        "        path.pop()\n",
        "\n",
        "# TODO: Find a specific animal's path\n",
        "def find_animal_path(node, target, path):\n",
        "    if node:\n",
        "        path.append(node.name)\n",
        "        if node.name == target:\n",
        "            return path\n",
        "        for child in node.children:\n",
        "            result = find_animal_path(child, target, path)\n",
        "            if result:\n",
        "                return result\n",
        "        path.pop()\n",
        "    return None\n",
        "\n",
        "#list_paths(entrance, [])\n",
        "print(find_animal_path(entrance, \"Penguin Zone\", []))"
      ]
    }
  ],
  "metadata": {
    "colab": {
      "provenance": []
    },
    "kernelspec": {
      "display_name": "Python 3",
      "name": "python3"
    },
    "language_info": {
      "codemirror_mode": {
        "name": "ipython",
        "version": 3
      },
      "file_extension": ".py",
      "mimetype": "text/x-python",
      "name": "python",
      "nbconvert_exporter": "python",
      "pygments_lexer": "ipython3",
      "version": "3.12.2"
    }
  },
  "nbformat": 4,
  "nbformat_minor": 0
}
