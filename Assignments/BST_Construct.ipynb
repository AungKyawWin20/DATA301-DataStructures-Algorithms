{
  "cells": [
    {
      "cell_type": "code",
      "execution_count": 1,
      "metadata": {
        "id": "P-BnyEkz1NQD"
      },
      "outputs": [
        {
          "name": "stdout",
          "output_type": "stream",
          "text": [
            "Inorder Traversal:\n",
            "1 3 5 7 9 10 12 "
          ]
        }
      ],
      "source": [
        "class Node:\n",
        "    def __init__(self, value):\n",
        "        self.value = value\n",
        "        self.left = None\n",
        "        self.right = None\n",
        "\n",
        "def insert_bst(root, value):\n",
        "    if root is None:\n",
        "        return Node(value)\n",
        "    if value < root.value:\n",
        "        root.left = insert_bst(root.left, value)\n",
        "    else:\n",
        "        root.right = insert_bst(root.right, value)\n",
        "    return root\n",
        "\n",
        "def build_bst(values):\n",
        "    root = None\n",
        "    for val in values:\n",
        "        root = insert_bst(root, val)\n",
        "    return root\n",
        "\n",
        "def inorder_traversal(node):\n",
        "    if node:\n",
        "        inorder_traversal(node.left)\n",
        "        print(node.value, end=\" \")\n",
        "        inorder_traversal(node.right)\n",
        "\n",
        "# Example usage\n",
        "values = [7, 3, 10, 1, 5, 9, 12]\n",
        "root = build_bst(values)\n",
        "\n",
        "print(\"Inorder Traversal:\")\n",
        "inorder_traversal(root)"
      ]
    }
  ],
  "metadata": {
    "colab": {
      "provenance": []
    },
    "kernelspec": {
      "display_name": "Python 3",
      "name": "python3"
    },
    "language_info": {
      "codemirror_mode": {
        "name": "ipython",
        "version": 3
      },
      "file_extension": ".py",
      "mimetype": "text/x-python",
      "name": "python",
      "nbconvert_exporter": "python",
      "pygments_lexer": "ipython3",
      "version": "3.12.2"
    }
  },
  "nbformat": 4,
  "nbformat_minor": 0
}
