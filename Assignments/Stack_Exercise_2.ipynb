{
 "cells": [
  {
   "cell_type": "markdown",
   "metadata": {},
   "source": [
    "Instructions:\n",
    "\n",
    "\n",
    "Step-by-step execution for is_balanced(\"{[()]}\")):\n",
    "Push {, [, and ( onto the stack.\n",
    "Encounter ), pop (, check if they match ✅.\n",
    "Encounter ], pop [, check if they match ✅.\n",
    "Encounter }, pop {, check if they match ✅.\n",
    "Stack is empty, so the string is balanced ✅.\n",
    "\n",
    "def is_balanced(expression):\n",
    "    stack = Stack()\n",
    "    pairs = {')': '(', '}': '{', ']': '['}\n",
    "   #write your code\n",
    "   for char in expression:"
   ]
  },
  {
   "cell_type": "code",
   "execution_count": 1,
   "metadata": {},
   "outputs": [],
   "source": [
    "class ArrayStack:\n",
    "    def __init__(self):\n",
    "        self._data = []\n",
    "        \n",
    "    def __len__(self):\n",
    "        return len(self._data)\n",
    "    \n",
    "    def is_empty(self):\n",
    "        return len(self._data) == 0\n",
    "    \n",
    "    def push(self, item):\n",
    "        self._data.append(item)\n",
    "        \n",
    "    def top(self):\n",
    "        if self.is_empty():\n",
    "            raise IndexError\n",
    "        return self._data[-1]\n",
    "    \n",
    "    def pop(self):\n",
    "        if self.is_empty():\n",
    "            raise IndexError\n",
    "        return self._data.pop()"
   ]
  },
  {
   "cell_type": "code",
   "execution_count": 3,
   "metadata": {},
   "outputs": [
    {
     "name": "stdout",
     "output_type": "stream",
     "text": [
      "True\n",
      "False\n"
     ]
    }
   ],
   "source": [
    "def is_balanced(express):\n",
    "    stack = ArrayStack()\n",
    "    pairs = {')': '(', '}': '{', ']': '['}\n",
    "    \n",
    "    for char in express:\n",
    "        if char in pairs.values():\n",
    "            stack.push(char)\n",
    "        elif char in pairs.keys():\n",
    "            if stack.is_empty() or stack.pop() != pairs[char]:\n",
    "                return False\n",
    "    return stack.is_empty()\n",
    "\n",
    "\n",
    "print(is_balanced(\"{[()]}\"))  \n",
    "print(is_balanced(\"{[(])}\"))  "
   ]
  }
 ],
 "metadata": {
  "kernelspec": {
   "display_name": "Python 3",
   "language": "python",
   "name": "python3"
  },
  "language_info": {
   "codemirror_mode": {
    "name": "ipython",
    "version": 3
   },
   "file_extension": ".py",
   "mimetype": "text/x-python",
   "name": "python",
   "nbconvert_exporter": "python",
   "pygments_lexer": "ipython3",
   "version": "3.12.2"
  }
 },
 "nbformat": 4,
 "nbformat_minor": 2
}
