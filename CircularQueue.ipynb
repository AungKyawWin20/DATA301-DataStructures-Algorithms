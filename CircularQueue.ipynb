{
 "cells": [
  {
   "cell_type": "code",
   "execution_count": null,
   "metadata": {},
   "outputs": [],
   "source": [
    "class CircularQueue:\n",
    "    def __init__(self, max_size = 5):\n",
    "        self.max_size = max_size \n",
    "        self.queue = [None] * max_size #Fixed list size\n",
    "        self.front = -1 #Index of the front element\n",
    "        self.rear = -1 #Index of the rear element\n",
    "\n",
    "    # checks if the list is empty or not by checking the first element    \n",
    "    def is_empty(self):\n",
    "        return self.front == -1\n",
    "    #checks if the list is full or not by checking the rear element\n",
    "    def is_full(self):\n",
    "        return (self.rear + 1) % self.max_size == self.front\n",
    "    #add an item into the list\n",
    "    def enqueue(self,item):\n",
    "        if self.is_full():\n",
    "            print(\"Queue is full brother! Cannot add any more items! Delete an element from the queue! Just like how she deleted you from her life.\")\n",
    "            return\n",
    "        if self.is_empty():\n",
    "            self.front = 0 #first element gets added here\n",
    "        self.rear = (self.rear +1) % self.max_size \n",
    "        self.queue[self.rear] = item \n",
    "        print(\"Item added!\")\n",
    "        \n",
    "    def dequeue(self):\n",
    "        if self.is_empty():\n",
    "            print(\"Queue is empty brother\")\n",
    "            return None\n",
    "        \n",
    "        removed_item = self.queue[self.front]\n",
    "        if self.front == self.rear: #If only one element left in the queue\n",
    "            self.front = -1 \n",
    "            self.rear = -1\n",
    "        else:\n",
    "            self.front = (self.front + 1) %  self.max_size\n",
    "        print(\"Item deleted!\")\n",
    "        return removed_item\n",
    "    \n",
    "    def front_element(self):\n",
    "        if self.is_empty():\n",
    "            print(\"Queue is empty!\")\n",
    "            return None\n",
    "        return self.queue[self.front]\n",
    "    \n",
    "    def display(self):\n",
    "        if self.is_empty():\n",
    "            print(\"Queue is empty!\")\n",
    "            return\n",
    "        i = self.front\n",
    "        while True:\n",
    "            print(self.queue[i], end = ' ')\n",
    "            if i == self.rear:\n",
    "                break\n",
    "            i = i + 1 % self.max_size\n",
    "        print()"
   ]
  },
  {
   "cell_type": "code",
   "execution_count": 30,
   "metadata": {},
   "outputs": [],
   "source": [
    "q = CircularQueue()"
   ]
  },
  {
   "cell_type": "code",
   "execution_count": null,
   "metadata": {},
   "outputs": [
    {
     "name": "stdout",
     "output_type": "stream",
     "text": [
      "Item added!\n",
      "Item added!\n",
      "Item added!\n",
      "Item added!\n",
      "Item added!\n",
      "Queue is full brother! Cannot add any more items! Delete an element from the queue! Just like how she deleted you from her life.\n"
     ]
    }
   ],
   "source": [
    "q.enqueue(10)\n",
    "q.enqueue(20)\n",
    "q.enqueue(30)\n",
    "q.enqueue(40)\n",
    "q.enqueue(50)\n",
    "q.enqueue(60) #Here, it should print that the queue is full"
   ]
  },
  {
   "cell_type": "markdown",
   "metadata": {},
   "source": [
    "Assuming that the queue is empty:\n",
    "\n",
    "queue = []\n",
    "\n",
    "when we first run the first 5 \"enqueue\" functions, it will add to the queue. However, once we try to add \"60\", it should print that the queue is full."
   ]
  },
  {
   "cell_type": "code",
   "execution_count": null,
   "metadata": {},
   "outputs": [
    {
     "name": "stdout",
     "output_type": "stream",
     "text": [
      "10 20 30 40 50 \n"
     ]
    }
   ],
   "source": [
    "q.display() #Should display from 10 to 50 only"
   ]
  },
  {
   "cell_type": "code",
   "execution_count": null,
   "metadata": {},
   "outputs": [
    {
     "name": "stdout",
     "output_type": "stream",
     "text": [
      "Item deleted!\n",
      "Item deleted!\n",
      "Item deleted!\n",
      "40 50 \n"
     ]
    }
   ],
   "source": [
    "q.dequeue()\n",
    "q.dequeue()\n",
    "q.dequeue()\n",
    "q.display() #Should display only 40 and 50"
   ]
  },
  {
   "cell_type": "markdown",
   "metadata": {},
   "source": [
    "Using the 'dequeue\" functions, we remove the first three elements, and printing the remaining elements should show 40 and 50."
   ]
  },
  {
   "cell_type": "code",
   "execution_count": null,
   "metadata": {},
   "outputs": [
    {
     "data": {
      "text/plain": [
       "False"
      ]
     },
     "execution_count": 36,
     "metadata": {},
     "output_type": "execute_result"
    }
   ],
   "source": [
    "q.is_empty() #Should display False\n",
    "q.is_full() #Should display False"
   ]
  },
  {
   "cell_type": "code",
   "execution_count": null,
   "metadata": {},
   "outputs": [
    {
     "data": {
      "text/plain": [
       "40"
      ]
     },
     "execution_count": 35,
     "metadata": {},
     "output_type": "execute_result"
    }
   ],
   "source": [
    "q.front_element() #Should display 40"
   ]
  },
  {
   "cell_type": "markdown",
   "metadata": {},
   "source": [
    " In addition to including comments and concept notes throughout the code, I have include a Google Sheet link below where I have included a table that goes through each of the steps of the execution process in a table.\n",
    "\n",
    "Google Sheets link(accessible with a Parami email): https://docs.google.com/spreadsheets/d/12SgwFBApaqIgUIgyCB6x4PGjLltsTqLxX0FbBaz7HgM/edit?usp=sharing"
   ]
  }
 ],
 "metadata": {
  "kernelspec": {
   "display_name": "Python 3",
   "language": "python",
   "name": "python3"
  },
  "language_info": {
   "codemirror_mode": {
    "name": "ipython",
    "version": 3
   },
   "file_extension": ".py",
   "mimetype": "text/x-python",
   "name": "python",
   "nbconvert_exporter": "python",
   "pygments_lexer": "ipython3",
   "version": "3.12.2"
  }
 },
 "nbformat": 4,
 "nbformat_minor": 2
}
