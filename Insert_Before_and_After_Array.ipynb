{
  "cells": [
    {
      "cell_type": "markdown",
      "metadata": {
        "id": "yjNBlWi25fCc"
      },
      "source": [
        "**INSERT AN ITEM BEFORE A GIVEN ITEM**"
      ]
    },
    {
      "cell_type": "code",
      "execution_count": 2,
      "metadata": {
        "id": "EWqYZp_v49ko"
      },
      "outputs": [],
      "source": [
        "def insert_before_item(arr, target, new_element):\n",
        "    new_arr = []  # New array to store the result\n",
        "    found = False  # Flag to track if the target is found\n",
        "\n",
        "    for item in arr:\n",
        "        if item == target:\n",
        "            new_arr.append(new_element)  # Insert new element before the target\n",
        "            found = True\n",
        "        new_arr.append(item)  # Append the current item\n",
        "\n",
        "    if not found:\n",
        "        print(f\"Item {target} not found in array.\")\n",
        "\n",
        "    return new_arr"
      ]
    },
    {
      "cell_type": "code",
      "execution_count": 5,
      "metadata": {
        "colab": {
          "base_uri": "https://localhost:8080/"
        },
        "id": "HLqGbaxX5GGq",
        "outputId": "739e25e2-46b9-43d1-b657-bdfd0f39ca41"
      },
      "outputs": [
        {
          "name": "stdout",
          "output_type": "stream",
          "text": [
            "[10, 20, 25, 30, 40, 50]\n",
            "Time taken: 0.000 ms\n"
          ]
        }
      ],
      "source": [
        "from time import time\n",
        "arr = [10, 20, 30, 40, 50]\n",
        "target = 30\n",
        "new_element = 25\n",
        "\n",
        "t1 = time()\n",
        "result = insert_before_item(arr, target, new_element)\n",
        "t2 = time()\n",
        "print(result)\n",
        "print(f\"Time taken: {(t2-t1)*10**3:.3f} ms\")"
      ]
    },
    {
      "cell_type": "markdown",
      "metadata": {
        "id": "t3lhYIAIDMpi"
      },
      "source": [
        "**INSERT AN ITEM AFTER A GIVEN ITEM**"
      ]
    },
    {
      "cell_type": "code",
      "execution_count": 16,
      "metadata": {
        "id": "go_1xNA75rfA"
      },
      "outputs": [],
      "source": [
        "def insert_after_item(arr, target, new_element):\n",
        "    new_arr = []  # New array to store the result\n",
        "    found = False  # Flag to check if the target is found\n",
        "\n",
        "    for item in arr:\n",
        "        new_arr.append(item)  # Append the current item\n",
        "        if item == target:\n",
        "            new_arr.append(new_element)  # Insert new element after the target\n",
        "            found = True  # Mark that we inserted after the first occurrence\n",
        "\n",
        "    if not found:\n",
        "        print(f\"Item {target} not found in array.\")\n",
        "\n",
        "    return new_arr\n"
      ]
    },
    {
      "cell_type": "code",
      "execution_count": 17,
      "metadata": {
        "colab": {
          "base_uri": "https://localhost:8080/"
        },
        "id": "x1Ui_bvv5vHg",
        "outputId": "5a1de472-5d93-4f71-bed8-e314798433dc"
      },
      "outputs": [
        {
          "name": "stdout",
          "output_type": "stream",
          "text": [
            "[10, 20, 30, 35, 40, 50]\n"
          ]
        }
      ],
      "source": [
        "arr = [10, 20, 30, 40, 50]\n",
        "target = 30\n",
        "new_element = 35\n",
        "\n",
        "result = insert_after_item(arr, target, new_element)\n",
        "print(result)\n"
      ]
    },
    {
      "cell_type": "code",
      "execution_count": null,
      "metadata": {
        "id": "jAgUZ-7dXj3K"
      },
      "outputs": [],
      "source": []
    }
  ],
  "metadata": {
    "colab": {
      "provenance": []
    },
    "kernelspec": {
      "display_name": "base",
      "language": "python",
      "name": "python3"
    },
    "language_info": {
      "codemirror_mode": {
        "name": "ipython",
        "version": 3
      },
      "file_extension": ".py",
      "mimetype": "text/x-python",
      "name": "python",
      "nbconvert_exporter": "python",
      "pygments_lexer": "ipython3",
      "version": "3.12.2"
    }
  },
  "nbformat": 4,
  "nbformat_minor": 0
}
