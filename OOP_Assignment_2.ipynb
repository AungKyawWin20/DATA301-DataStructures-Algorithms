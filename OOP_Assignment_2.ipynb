{
 "cells": [
  {
   "cell_type": "markdown",
   "metadata": {},
   "source": [
    "Zoo Management System"
   ]
  },
  {
   "cell_type": "code",
   "execution_count": 99,
   "metadata": {},
   "outputs": [],
   "source": [
    "from abc import ABC, abstractmethod"
   ]
  },
  {
   "cell_type": "code",
   "execution_count": 100,
   "metadata": {},
   "outputs": [],
   "source": [
    "class Animal:\n",
    "    def __init__(self, name, species, age, food):\n",
    "        self.name = name\n",
    "        self.species = species\n",
    "        self.age = age\n",
    "        self.food = food\n",
    "        \n",
    "    def __str__(self):\n",
    "        return f\"{self.name} is a {self.species} aged {self.age}\"\n",
    "    \n",
    "    def make_sound(self):\n",
    "        pass\n",
    "    \n",
    "    def feed(self):\n",
    "        return f\"{self.name} is eating {self.food}\"\n",
    "\n",
    "class Mammal(Animal):\n",
    "    def __init__(self, name, species, age, food, has_fur = True):\n",
    "        super().__init__(name, species, age, food)\n",
    "        self.has_fur = has_fur\n",
    "    \n",
    "    def make_sound(self):\n",
    "        print(\"A mammal makes a mammal sound\")\n",
    "\n",
    "class Bird(Animal):\n",
    "    def __init__(self, name, species, age, food, can_fly = True):\n",
    "        super().__init__(name, species, age, food)\n",
    "        self.can_fly = can_fly\n",
    "        \n",
    "    def make_sound(self):\n",
    "        print(\"A bird makes the sound 'Chirp'\")\n",
    "\n",
    "class Reptile(Animal):\n",
    "    def __init__(self, name, species, age, food, has_scales = True):\n",
    "        super().__init__(name, species, age, food)\n",
    "        self.has_scales = has_scales\n",
    "    \n",
    "    def make_sound(self):\n",
    "        print(\"A reptile makes the sound'Hiss'\")\n",
    "\n",
    "class Lion(Mammal):\n",
    "    def make_sound(self):\n",
    "        print(\"A lion makes the sound 'Roar'\")\n",
    "class Eagle(Bird):\n",
    "    def make_sound(self):\n",
    "        print(\"An eagle makes the sound 'Screeh'\")\n",
    "\n",
    "class Snake(Reptile):\n",
    "    def make_sound(self):\n",
    "        print(\"A snake makes the sound 'Avada Kedavra'\")\n",
    "\n",
    "class Zoo:\n",
    "    def __init__(self):\n",
    "        self.animals = []\n",
    "    \n",
    "    def add_animal(self, animal):\n",
    "        self.animals.append(animal)\n",
    "        print(f\"{animal.name} added to the zoo.\")\n",
    "    \n",
    "    def list_animals(self):\n",
    "        print(\"\\nList of animals in the zoo:\")\n",
    "        for animal in self.animals:\n",
    "            if self.animals:\n",
    "                print(animal)\n",
    "            else:\n",
    "                print(\"We ain't got no animals. We broke.\")\n",
    "\n",
    "    def feed_animals(self):\n",
    "        print(\"All animals have been fed\")\n",
    "        return [animal.feed() for animal in self.animals]\n",
    "        \n",
    "    def make_all_sounds(self):\n",
    "        for animal in self.animals:\n",
    "            animal.make_sound()"
   ]
  },
  {
   "cell_type": "code",
   "execution_count": 101,
   "metadata": {},
   "outputs": [
    {
     "name": "stdout",
     "output_type": "stream",
     "text": [
      "Simba added to the zoo.\n",
      "America added to the zoo.\n",
      "Harry Potter added to the zoo.\n",
      "\n",
      "List of animals in the zoo:\n",
      "Simba is a Lion aged 5\n",
      "America is a Eagle aged 3\n",
      "Harry Potter is a Snake aged 2\n",
      "All animals have been fed\n",
      "A lion makes the sound 'Roar'\n",
      "An eagle makes the sound 'Screeh'\n",
      "A snake makes the sound 'Avada Kedavra'\n"
     ]
    }
   ],
   "source": [
    "def main():\n",
    "    zoo = Zoo()\n",
    "    #To print the sound for each type of animal, I created the subclass for Lion, Eagle, and Snake\n",
    "    lion = Lion(\"Simba\", \"Lion\", 5, \"meat\")\n",
    "    zoo.add_animal(lion)\n",
    "    eagle = Eagle(\"America\", \"Eagle\", 3, \"fish\")\n",
    "    zoo.add_animal(eagle)\n",
    "    snake = Snake(\"Harry Potter\", \"Snake\", 2, \"mice\")\n",
    "    zoo.add_animal(snake)\n",
    "    \n",
    "    #If we want to use the general sounds, we can use the following code:\n",
    "    #lion = Mammal(\"Simba\", \"Lion\", 5, \"meat\")\n",
    "    #eagle = Bird(\"America\", \"Eagle\", 3, \"fish\")\n",
    "    #snake = Reptile(\"Harry Potter\", \"Snake\", 2, \"mice\")\n",
    "    \n",
    "    #I sincerely hope that this earns me at least one extra token. I'm not asking for much. 😭 Thank you.\n",
    "    \n",
    "    zoo.list_animals()\n",
    "    zoo.feed_animals()\n",
    "    zoo.make_all_sounds()\n",
    "\n",
    "\n",
    "main()"
   ]
  }
 ],
 "metadata": {
  "kernelspec": {
   "display_name": "base",
   "language": "python",
   "name": "python3"
  },
  "language_info": {
   "codemirror_mode": {
    "name": "ipython",
    "version": 3
   },
   "file_extension": ".py",
   "mimetype": "text/x-python",
   "name": "python",
   "nbconvert_exporter": "python",
   "pygments_lexer": "ipython3",
   "version": "3.12.2"
  }
 },
 "nbformat": 4,
 "nbformat_minor": 2
}
