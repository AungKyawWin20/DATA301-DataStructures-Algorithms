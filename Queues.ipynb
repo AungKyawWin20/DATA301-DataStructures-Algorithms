{
 "cells": [
  {
   "cell_type": "code",
   "execution_count": null,
   "metadata": {},
   "outputs": [],
   "source": [
    "class Queue:\n",
    "    def __init__(self):\n",
    "        self.data = []\n",
    "        \n",
    "    def enqueue(self, item):\n",
    "        return self.data.append(item)\n",
    "    \n",
    "    def dequeue(self):\n",
    "        if not self.is_empty():\n",
    "            return self.data.pop(0)\n",
    "        else:\n",
    "            return None\n",
    "    \n",
    "    def peek(self):\n",
    "        if not self.is_empty():\n",
    "            return self.data[0]\n",
    "        else:\n",
    "            return None\n",
    "    \n",
    "    def size(self):\n",
    "        return len(self.data)\n",
    "    \n",
    "    def is_empty(self):\n",
    "        return len(self.data) == 0\n",
    "    \n",
    "    def clear(self):\n",
    "        self.data = []"
   ]
  },
  {
   "cell_type": "code",
   "execution_count": 31,
   "metadata": {},
   "outputs": [
    {
     "data": {
      "text/plain": [
       "False"
      ]
     },
     "execution_count": 31,
     "metadata": {},
     "output_type": "execute_result"
    }
   ],
   "source": [
    "q = Queue()\n",
    "items = [1, 2, 3]\n",
    "\n",
    "for item in items:\n",
    "\tq.enqueue(item)\n",
    "\n",
    "q.dequeue()\n",
    "\n",
    "q.size()\n",
    "\n",
    "q.is_empty()"
   ]
  },
  {
   "cell_type": "code",
   "execution_count": 2,
   "metadata": {},
   "outputs": [
    {
     "name": "stdout",
     "output_type": "stream",
     "text": [
      "List time: 1.4562911987304688\n"
     ]
    }
   ],
   "source": [
    "import time \n",
    "from collections import deque\n",
    "\n",
    "lst = list(range(100000))\n",
    "\n",
    "start_time = time.time()\n",
    "\n",
    "for _ in range (100000):\n",
    "    lst.pop(0)\n",
    "print(\"List time:\", time.time() - start_time)"
   ]
  },
  {
   "cell_type": "code",
   "execution_count": null,
   "metadata": {},
   "outputs": [],
   "source": [
    "import threading\n",
    "import time\n",
    "\n",
    "def fry_eggs():\n",
    "    print(\"Frying eggs... 🍳\")\n",
    "    time.sleep(5)\n",
    "    print(\"Eggs are ready!\")\n",
    "\n",
    "def make_toast():\n",
    "    print(\"Toasting bread... 🍞\")\n",
    "    time.sleep(3)\n",
    "    print(\"Toast is ready!\")\n",
    "\n",
    "def brew_coffee():\n",
    "    print(\"Brewing coffee... ☕\")\n",
    "    time.sleep(4)\n",
    "    print(\"Coffee is ready!\")\n",
    "\n",
    "# Creating threads for each task\n",
    "thread1 = threading.Thread(target=fry_eggs)\n",
    "thread2 = threading.Thread(target=make_toast)\n",
    "thread3 = threading.Thread(target=brew_coffee)\n",
    "\n",
    "# Starting all threads\n",
    "thread1.start()\n",
    "thread2.start()\n",
    "thread3.start()\n",
    "\n",
    "# Waiting for all threads to complete\n",
    "thread1.join()\n",
    "thread2.join()\n",
    "thread3.join()\n",
    "\n",
    "print(\"Breakfast is ready! 🍽️\")"
   ]
  }
 ],
 "metadata": {
  "kernelspec": {
   "display_name": "Python 3",
   "language": "python",
   "name": "python3"
  },
  "language_info": {
   "codemirror_mode": {
    "name": "ipython",
    "version": 3
   },
   "file_extension": ".py",
   "mimetype": "text/x-python",
   "name": "python",
   "nbconvert_exporter": "python",
   "pygments_lexer": "ipython3",
   "version": "3.12.2"
  }
 },
 "nbformat": 4,
 "nbformat_minor": 2
}
