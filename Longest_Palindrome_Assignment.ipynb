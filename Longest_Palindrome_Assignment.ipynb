{
 "cells": [
  {
   "cell_type": "markdown",
   "metadata": {},
   "source": [
    "When I started to brainstorm for ways to code this, the initial plan that I came up with was based on the last palindrome problem. My plan was to go through the strings and create substrings and store them and compare and store the last longest palindrome in the final string. I got to coding it but then I thought of another approach because the first idea would have been very space and time consuming. \n",
    "\n",
    "Then, I thought that instead of going over again and again, I would just split the string in half and span out. When I started to code, I ran into a problem. Strings may be even or odd. So, then, I needed to take into account that and write the functions for even and odd numbers of characters in the string."
   ]
  },
  {
   "cell_type": "code",
   "execution_count": 6,
   "metadata": {},
   "outputs": [
    {
     "name": "stdout",
     "output_type": "stream",
     "text": [
      "bab\n",
      "bb\n"
     ]
    }
   ],
   "source": [
    "def longest_palindrome(s):\n",
    "    if not s:\n",
    "        return \"\" # Returns empty if the string is empty\n",
    "    \n",
    "    def expand_center(left,right):\n",
    "        while left >= 0 and right < len(s) and s[left] == s[right]:\n",
    "            left -= 1\n",
    "            right += 1\n",
    "        return s[left + 1:right] #This will ensure that the longest palindrome is returned\n",
    "    \n",
    "    longest = \"\" \n",
    "    \n",
    "    for i in range(len(s)):\n",
    "    #solving the issue of odd and even length palindrome\n",
    "        odd_palindrome = expand_center(i,i)\n",
    "        even_palindrome = expand_center(i, i+1)\n",
    "        \n",
    "        longest = max(longest, odd_palindrome, even_palindrome, key = len)\n",
    "        \n",
    "    return longest\n",
    "\n",
    "print(longest_palindrome('babad'))\n",
    "print(longest_palindrome('cbbd'))\n",
    "    "
   ]
  },
  {
   "cell_type": "markdown",
   "metadata": {},
   "source": [
    "What the code is doing:\n",
    "\n",
    "- Iterate through each character and treats it as a potential center\n",
    "\n",
    "- Now, since even palindrome have two central characters, it also checks the adjacent characters\n",
    "\n",
    "- It also expands outwards and compares the characters. "
   ]
  },
  {
   "cell_type": "markdown",
   "metadata": {},
   "source": [
    "I think the Space Complexity is O(n^2)"
   ]
  }
 ],
 "metadata": {
  "kernelspec": {
   "display_name": "base",
   "language": "python",
   "name": "python3"
  },
  "language_info": {
   "codemirror_mode": {
    "name": "ipython",
    "version": 3
   },
   "file_extension": ".py",
   "mimetype": "text/x-python",
   "name": "python",
   "nbconvert_exporter": "python",
   "pygments_lexer": "ipython3",
   "version": "3.12.2"
  }
 },
 "nbformat": 4,
 "nbformat_minor": 2
}
