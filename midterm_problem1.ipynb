{
 "cells": [
  {
   "cell_type": "code",
   "execution_count": 7,
   "metadata": {},
   "outputs": [],
   "source": [
    "import random"
   ]
  },
  {
   "cell_type": "code",
   "execution_count": 5,
   "metadata": {},
   "outputs": [],
   "source": [
    "class RandomizedSet:\n",
    "    def __init__(self):\n",
    "        self.dict = {}\n",
    "        self.list = []\n",
    "\n",
    "    def insert(self, val: int) :\n",
    "        if val in self.dict:\n",
    "            return False\n",
    "        self.dict[val] = len(self.list) #Using key and value to store index\n",
    "        self.list.append(val)\n",
    "        print(self.dict) #just for my reference to see the dict\n",
    "        print(self.list)\n",
    "        return True\n",
    "\n",
    "    def remove(self, val: int):\n",
    "        if val not in self.dict:\n",
    "            return False\n",
    "        last_element = self.list[-1]\n",
    "        print(f\"Last element:\", {last_element}) #Just for my reference\n",
    "        idx_to_remove = self.dict[val]\n",
    "        print(f\"Index to remove:\", {idx_to_remove}) #Just for my reference\n",
    "        self.list[idx_to_remove] = last_element\n",
    "        self.dict[last_element] = idx_to_remove\n",
    "        self.list.pop()\n",
    "        del self.dict[val]\n",
    "        print(self.dict) #just for my reference to see the dict\n",
    "        print(self.list)\n",
    "        return True\n",
    "\n",
    "    def get_random(self) -> int:\n",
    "        return random.choice(self.list)"
   ]
  },
  {
   "cell_type": "code",
   "execution_count": 2,
   "metadata": {},
   "outputs": [
    {
     "name": "stdout",
     "output_type": "stream",
     "text": [
      "{1: 0}\n",
      "[1]\n",
      "True\n",
      "False\n",
      "Last element: {1}\n",
      "Index to remove: {0}\n",
      "{}\n",
      "[]\n",
      "True\n"
     ]
    }
   ],
   "source": [
    "ds = RandomizedSet()\n",
    "print(ds.insert(1))\n",
    "print(ds.insert(1))\n",
    "print(ds.remove(1))"
   ]
  },
  {
   "cell_type": "code",
   "execution_count": 10,
   "metadata": {},
   "outputs": [
    {
     "name": "stdout",
     "output_type": "stream",
     "text": [
      "{10: 0, 5: 1}\n",
      "[10, 5]\n",
      "Last element: {5}\n",
      "Index to remove: {1}\n",
      "{10: 0}\n",
      "[10]\n",
      "10\n"
     ]
    }
   ],
   "source": [
    "#Prof's examples\n",
    "ds.insert(5)\n",
    "ds.insert(10)\n",
    "ds.remove(5)\n",
    "print(ds.get_random())"
   ]
  }
 ],
 "metadata": {
  "kernelspec": {
   "display_name": "Python 3",
   "language": "python",
   "name": "python3"
  },
  "language_info": {
   "codemirror_mode": {
    "name": "ipython",
    "version": 3
   },
   "file_extension": ".py",
   "mimetype": "text/x-python",
   "name": "python",
   "nbconvert_exporter": "python",
   "pygments_lexer": "ipython3",
   "version": "3.12.2"
  }
 },
 "nbformat": 4,
 "nbformat_minor": 2
}
