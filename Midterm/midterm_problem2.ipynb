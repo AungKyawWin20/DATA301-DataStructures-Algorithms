{
 "cells": [
  {
   "cell_type": "code",
   "execution_count": 3,
   "metadata": {},
   "outputs": [],
   "source": [
    "class QueueStacks:\n",
    "    def __init__(self):\n",
    "        self.stack1 = []\n",
    "        self.stack2 = []\n",
    "    def enqueue(self, x: int) :\n",
    "        return self.stack1.append(x)\n",
    "    \n",
    "    def dequeue(self) :\n",
    "        if len(self.stack1) == 0 and len(self.stack2) == 0:\n",
    "            return None\n",
    "        if len(self.stack2) == 0:\n",
    "            while len(self.stack1) != 0:\n",
    "                pop_element = self.stack1.pop()\n",
    "                self.stack2.append(pop_element)\n",
    "        return self.stack2.pop()\n",
    "\n",
    "    def peek(self) :\n",
    "        if len(self.stack1) == 0 and len(self.stack2) == 0:\n",
    "            return None\n",
    "        if len(self.stack2) == 0:\n",
    "            while len(self.stack1) != 0:\n",
    "                pop_element = self.stack1.pop()\n",
    "                self.stack2.append(pop_element)\n",
    "        return self.stack2[-1]\n",
    "\n",
    "    def is_empty(self) -> bool: #will return True or False\n",
    "        if len(self.stack1) == 0 and len(self.stack2) == 0:\n",
    "            return True\n",
    "        else:\n",
    "            return False"
   ]
  },
  {
   "cell_type": "code",
   "execution_count": 4,
   "metadata": {},
   "outputs": [
    {
     "name": "stdout",
     "output_type": "stream",
     "text": [
      "1\n",
      "2\n",
      "False\n"
     ]
    }
   ],
   "source": [
    "q = QueueStacks()\n",
    "q.enqueue(1)\n",
    "q.enqueue(2)\n",
    "print(q.dequeue())  # Output: 1\n",
    "print(q.peek())  # Output: 2\n",
    "print(q.is_empty())  # Output: False"
   ]
  }
 ],
 "metadata": {
  "kernelspec": {
   "display_name": "Python 3",
   "language": "python",
   "name": "python3"
  },
  "language_info": {
   "codemirror_mode": {
    "name": "ipython",
    "version": 3
   },
   "file_extension": ".py",
   "mimetype": "text/x-python",
   "name": "python",
   "nbconvert_exporter": "python",
   "pygments_lexer": "ipython3",
   "version": "3.12.2"
  }
 },
 "nbformat": 4,
 "nbformat_minor": 2
}
