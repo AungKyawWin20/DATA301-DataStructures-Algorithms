{
 "cells": [
  {
   "cell_type": "code",
   "execution_count": 32,
   "metadata": {},
   "outputs": [],
   "source": [
    "nums = [1,2,3,4,5]"
   ]
  },
  {
   "cell_type": "code",
   "execution_count": 33,
   "metadata": {},
   "outputs": [],
   "source": [
    "def find_maximum(lst):\n",
    "    max_value = lst[0]\n",
    "    for num in lst[1:]:\n",
    "        if num > max_value:\n",
    "            max_value = num \n",
    "    return max_value"
   ]
  },
  {
   "cell_type": "code",
   "execution_count": 34,
   "metadata": {},
   "outputs": [
    {
     "name": "stdout",
     "output_type": "stream",
     "text": [
      "5\n"
     ]
    }
   ],
   "source": [
    "print(find_maximum(nums))"
   ]
  },
  {
   "cell_type": "code",
   "execution_count": null,
   "metadata": {},
   "outputs": [],
   "source": [
    "def two_sums(lst, target):\n",
    "    result = []\n",
    "    for i in range(len(lst)):\n",
    "        for j in range(i + 1, len(lst)):  \n",
    "                "
   ]
  },
  {
   "cell_type": "code",
   "execution_count": 37,
   "metadata": {},
   "outputs": [
    {
     "name": "stdout",
     "output_type": "stream",
     "text": [
      "[(1, 2), (0, 3)]\n"
     ]
    }
   ],
   "source": [
    "def two_sums(lst,target):\n",
    "    indexes = {}\n",
    "    result = []\n",
    "    \n",
    "    for i, num in enumerate(lst):\n",
    "        num_needed = target - num\n",
    "        \n",
    "        if num_needed in indexes:\n",
    "            result.append((indexes[num_needed], i))\n",
    "        indexes[num] = i\n",
    "        \n",
    "    return result\n",
    "\n",
    "    \n",
    "list = [1,2,3,4,5]\n",
    "target = 5\n",
    "\n",
    "print(two_sums(list,target))"
   ]
  },
  {
   "cell_type": "code",
   "execution_count": null,
   "metadata": {},
   "outputs": [],
   "source": []
  }
 ],
 "metadata": {
  "kernelspec": {
   "display_name": "base",
   "language": "python",
   "name": "python3"
  },
  "language_info": {
   "codemirror_mode": {
    "name": "ipython",
    "version": 3
   },
   "file_extension": ".py",
   "mimetype": "text/x-python",
   "name": "python",
   "nbconvert_exporter": "python",
   "pygments_lexer": "ipython3",
   "version": "3.12.2"
  }
 },
 "nbformat": 4,
 "nbformat_minor": 2
}
