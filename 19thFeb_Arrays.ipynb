{
 "cells": [
  {
   "cell_type": "code",
   "execution_count": null,
   "metadata": {},
   "outputs": [
    {
     "name": "stdout",
     "output_type": "stream",
     "text": [
      "[10, 20, 25, 30, 40, 50]\n"
     ]
    }
   ],
   "source": [
    "arr = [10,20,30,40,50]\n",
    "\n",
    "target = 30\n",
    "\n",
    "new_element = 25\n",
    "\n",
    "def insert_before_item(arr, target, new_element):\n",
    "    for i in range(len(arr)):\n",
    "        if arr[i] == target:\n",
    "            arr.insert(i, new_element)\n",
    "            break\n",
    "    return arr\n",
    "\n",
    "print(insert_before_item(arr, target, new_element))\n",
    "\n",
    "def insert_after_item(arr, target, new_element):\n",
    "    for i in range(len(arr)):\n",
    "        if arr[i] == target:\n",
    "            arr.insert(i+1, new_element)\n",
    "            break\n",
    "    return arr"
   ]
  }
 ],
 "metadata": {
  "kernelspec": {
   "display_name": "base",
   "language": "python",
   "name": "python3"
  },
  "language_info": {
   "codemirror_mode": {
    "name": "ipython",
    "version": 3
   },
   "file_extension": ".py",
   "mimetype": "text/x-python",
   "name": "python",
   "nbconvert_exporter": "python",
   "pygments_lexer": "ipython3",
   "version": "3.12.2"
  }
 },
 "nbformat": 4,
 "nbformat_minor": 2
}
