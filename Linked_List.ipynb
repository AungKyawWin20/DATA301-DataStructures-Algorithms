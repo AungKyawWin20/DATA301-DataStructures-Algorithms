{
  "cells": [
    {
      "cell_type": "code",
      "execution_count": 2,
      "metadata": {
        "colab": {
          "base_uri": "https://localhost:8080/"
        },
        "id": "DX3HZ-vCz0-V",
        "outputId": "617b15d4-b1ee-4d4a-b6e8-d3a549940e47"
      },
      "outputs": [
        {
          "name": "stdout",
          "output_type": "stream",
          "text": [
            "10 -> 20 -> None\n"
          ]
        }
      ],
      "source": [
        "# Lab 1: Basic Singly Linked List\n",
        "\n",
        "class Node:\n",
        "    def __init__(self, data):\n",
        "        self.data = data\n",
        "        self.next = None\n",
        "\n",
        "class LinkedList:\n",
        "    def __init__(self):\n",
        "        self.head = None\n",
        "\n",
        "    def append(self, data):\n",
        "        new_node = Node(data)\n",
        "\n",
        "        if self.head is None:\n",
        "            self.head = new_node\n",
        "            return\n",
        "\n",
        "        last = self.head\n",
        "        while last.next:\n",
        "            last = last.next\n",
        "        last.next = new_node\n",
        "\n",
        "    def print_list(self):\n",
        "        current = self.head\n",
        "        while current:\n",
        "            print(current.data, end=\" -> \")\n",
        "            current = current.next\n",
        "        print(\"None\")\n",
        "\n",
        "\n",
        "ll = LinkedList()\n",
        "ll.append(10)\n",
        "ll.append(20)\n",
        "ll.print_list()"
      ]
    },
    {
      "cell_type": "code",
      "execution_count": 3,
      "metadata": {
        "colab": {
          "base_uri": "https://localhost:8080/"
        },
        "id": "E2Lj9BD30UW4",
        "outputId": "13383ecd-1e5e-48a1-d6fa-858bc8e6b4e8"
      },
      "outputs": [
        {
          "name": "stdout",
          "output_type": "stream",
          "text": [
            "3 -> 5 -> None\n"
          ]
        }
      ],
      "source": [
        "# Lab 2: Insert and Delete\n",
        "\n",
        "class LinkedList:\n",
        "    # (Use Node class from Lab 1)\n",
        "\n",
        "    def __init__(self):\n",
        "        self.head = None\n",
        "\n",
        "    def append(self, data):\n",
        "        new_node = Node(data)\n",
        "\n",
        "        if self.head is None:\n",
        "            self.head = new_node\n",
        "            return\n",
        "\n",
        "        last = self.head\n",
        "        while last.next:\n",
        "            last = last.next\n",
        "        last.next = new_node\n",
        "\n",
        "    def print_list(self):\n",
        "        current = self.head\n",
        "        while current:\n",
        "            print(current.data, end=\" -> \")\n",
        "            current = current.next\n",
        "        print(\"None\")\n",
        "\n",
        "    def insert_at_beginning(self, data):\n",
        "        new_node = Node(data)\n",
        "        new_node.next = self.head\n",
        "        self.head = new_node\n",
        "\n",
        "    def insert_at_position(self, pos, data):\n",
        "        if pos == 0:\n",
        "            self.insert_at_beginning(data)\n",
        "            return\n",
        "\n",
        "        new_node = Node(data)\n",
        "        current = self.head\n",
        "        count = 0\n",
        "\n",
        "        while current and count < pos - 1:\n",
        "            current = current.next\n",
        "            count += 1\n",
        "\n",
        "        if current is None:\n",
        "            print(\"Position out of bounds\")\n",
        "            return\n",
        "\n",
        "        new_node.next = current.next\n",
        "        current.next = new_node\n",
        "\n",
        "    def delete_by_value(self, data):\n",
        "        if self.head is None:\n",
        "            print(\"List is empty\")\n",
        "            return\n",
        "\n",
        "        if self.head.data == data:\n",
        "            self.head = self.head.next\n",
        "            return\n",
        "\n",
        "        current = self.head\n",
        "        while current.next and current.next.data != data:\n",
        "            current = current.next\n",
        "\n",
        "        if current.next is None:\n",
        "            print(\"Value not found in the list\")\n",
        "            return\n",
        "\n",
        "        current.next = current.next.next\n",
        "\n",
        "    def delete_at_position(self, pos):\n",
        "        if self.head is None:\n",
        "            print(\"List is empty\")\n",
        "            return\n",
        "\n",
        "        if pos == 0:\n",
        "            self.head = self.head.next\n",
        "            return\n",
        "\n",
        "        current = self.head\n",
        "        count = 0\n",
        "\n",
        "        while current.next and count < pos - 1:\n",
        "            current = current.next\n",
        "            count += 1\n",
        "\n",
        "        if current.next is None:\n",
        "            print(\"Position out of bounds\")\n",
        "            return\n",
        "\n",
        "        current.next = current.next.next\n",
        "\n",
        "\n",
        "ll = LinkedList()\n",
        "ll.append(5)\n",
        "ll.insert_at_beginning(3)\n",
        "ll.insert_at_position(1, 4)\n",
        "ll.delete_by_value(4)\n",
        "ll.print_list()"
      ]
    }
  ],
  "metadata": {
    "colab": {
      "provenance": []
    },
    "kernelspec": {
      "display_name": "Python 3",
      "name": "python3"
    },
    "language_info": {
      "codemirror_mode": {
        "name": "ipython",
        "version": 3
      },
      "file_extension": ".py",
      "mimetype": "text/x-python",
      "name": "python",
      "nbconvert_exporter": "python",
      "pygments_lexer": "ipython3",
      "version": "3.12.2"
    }
  },
  "nbformat": 4,
  "nbformat_minor": 0
}
