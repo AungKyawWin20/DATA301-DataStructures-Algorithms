{
 "cells": [
  {
   "cell_type": "code",
   "execution_count": 3,
   "metadata": {},
   "outputs": [],
   "source": [
    "import re\n",
    "\n",
    "def is_palindrome(s):\n",
    "    \n",
    "    #Using the Regex Library from my text mining course\n",
    "    #Converting to lower case and removing non alphanumerics\n",
    "    cleaned_s = re.sub(r'[^a-zA-Z0-9]', '', s.lower())\n",
    "    \n",
    "    return cleaned_s == cleaned_s[::-1]"
   ]
  },
  {
   "cell_type": "code",
   "execution_count": 4,
   "metadata": {},
   "outputs": [
    {
     "name": "stdout",
     "output_type": "stream",
     "text": [
      "True\n",
      "False\n",
      "True\n"
     ]
    }
   ],
   "source": [
    "print(is_palindrome(\"A man, a plan, a canal: Panama\"))  # True\n",
    "print(is_palindrome(\"race a car\"))  # False\n",
    "print(is_palindrome(\" \"))  # True"
   ]
  }
 ],
 "metadata": {
  "kernelspec": {
   "display_name": "base",
   "language": "python",
   "name": "python3"
  },
  "language_info": {
   "codemirror_mode": {
    "name": "ipython",
    "version": 3
   },
   "file_extension": ".py",
   "mimetype": "text/x-python",
   "name": "python",
   "nbconvert_exporter": "python",
   "pygments_lexer": "ipython3",
   "version": "3.12.2"
  }
 },
 "nbformat": 4,
 "nbformat_minor": 2
}
