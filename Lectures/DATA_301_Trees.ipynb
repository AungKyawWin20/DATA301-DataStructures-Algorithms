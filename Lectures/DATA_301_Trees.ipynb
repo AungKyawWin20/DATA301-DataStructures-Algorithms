{
  "nbformat": 4,
  "nbformat_minor": 0,
  "metadata": {
    "colab": {
      "provenance": []
    },
    "kernelspec": {
      "name": "python3",
      "display_name": "Python 3"
    },
    "language_info": {
      "name": "python"
    }
  },
  "cells": [
    {
      "cell_type": "code",
      "execution_count": null,
      "metadata": {
        "id": "X2flctW3BGVW"
      },
      "outputs": [],
      "source": [
        "class Node:\n",
        "    def __init__(self, value):\n",
        "        self.val = value\n",
        "        self.left = None\n",
        "        self.right = None\n",
        "\n",
        "# Building the sample tree:\n",
        "#         A\n",
        "#        / \\\n",
        "#       B   C\n",
        "#      / \\   \\\n",
        "#     D   E   F\n",
        "\n",
        "root = Node('A')\n",
        "root.left = Node('B')\n",
        "root.right = Node('C')\n",
        "root.left.left = Node('D')\n",
        "root.left.right = Node('E')\n",
        "root.right.right = Node('F')"
      ]
    },
    {
      "cell_type": "code",
      "source": [
        "def inorder(node):\n",
        "    if node:\n",
        "        inorder(node.left)\n",
        "        print(node.val, end=' ')\n",
        "        inorder(node.right)\n",
        "\n",
        "print(\"Inorder Traversal:\")\n",
        "inorder(root)\n",
        "# Output: D B E A C F"
      ],
      "metadata": {
        "colab": {
          "base_uri": "https://localhost:8080/"
        },
        "id": "_GHkXFV-Bp_G",
        "outputId": "f327012b-b266-450c-fb69-008d0804079f"
      },
      "execution_count": null,
      "outputs": [
        {
          "output_type": "stream",
          "name": "stdout",
          "text": [
            "Inorder Traversal:\n",
            "D B E A C F "
          ]
        }
      ]
    },
    {
      "cell_type": "code",
      "source": [
        "def preorder(node):\n",
        "    if node:\n",
        "        print(node.val, end=' ')\n",
        "        preorder(node.left)\n",
        "        preorder(node.right)\n",
        "\n",
        "print(\"\\nPreorder Traversal:\")\n",
        "preorder(root)\n",
        "# Output: A B D E C F"
      ],
      "metadata": {
        "colab": {
          "base_uri": "https://localhost:8080/"
        },
        "id": "UQrnLz1_CD87",
        "outputId": "5842aae7-95f3-4910-aa65-a84735bb8c8d"
      },
      "execution_count": null,
      "outputs": [
        {
          "output_type": "stream",
          "name": "stdout",
          "text": [
            "\n",
            "Preorder Traversal:\n",
            "A B D E C F "
          ]
        }
      ]
    },
    {
      "cell_type": "code",
      "source": [
        "def postorder(node):\n",
        "    if node:\n",
        "        postorder(node.left)\n",
        "        postorder(node.right)\n",
        "        print(node.val, end=' ')\n",
        "\n",
        "print(\"\\nPostorder Traversal:\")\n",
        "postorder(root)\n",
        "# Output: D E B F C A"
      ],
      "metadata": {
        "colab": {
          "base_uri": "https://localhost:8080/"
        },
        "id": "O7L2fOEmCH0S",
        "outputId": "cc06cb3b-d3ae-46cf-963f-78eb1851faa5"
      },
      "execution_count": null,
      "outputs": [
        {
          "output_type": "stream",
          "name": "stdout",
          "text": [
            "\n",
            "Postorder Traversal:\n",
            "D E B F C A "
          ]
        }
      ]
    },
    {
      "cell_type": "code",
      "source": [
        "def calculate_height(node):\n",
        "    if node is None:\n",
        "        return -1  # height of empty tree is -1\n",
        "    left_height = calculate_height(node.left)\n",
        "    right_height = calculate_height(node.right)\n",
        "    return 1 + max(left_height, right_height)\n",
        "\n",
        "\n",
        "height = calculate_height(root)\n",
        "print(height)"
      ],
      "metadata": {
        "colab": {
          "base_uri": "https://localhost:8080/"
        },
        "id": "eGz-ELxiF8fn",
        "outputId": "5ee18cb2-bace-49bc-98e8-3bdf95c11919"
      },
      "execution_count": null,
      "outputs": [
        {
          "output_type": "stream",
          "name": "stdout",
          "text": [
            "2\n"
          ]
        }
      ]
    },
    {
      "cell_type": "code",
      "source": [
        "def find_depth(node, target, current_depth=0):\n",
        "    if node is None:\n",
        "        return -1  # target not found\n",
        "    if node.val == target:\n",
        "        return current_depth\n",
        "    # Search left subtree\n",
        "    left = find_depth(node.left, target, current_depth + 1)\n",
        "    if left != -1:\n",
        "        return left\n",
        "    # Search right subtree\n",
        "    return find_depth(node.right, target, current_depth + 1)\n",
        "\n",
        "\n",
        "print(\"Depth of node 'A':\", find_depth(root, 'A'))\n",
        "print(\"Depth of node 'B':\", find_depth(root, 'B'))\n",
        "print(\"Depth of node 'E':\", find_depth(root, 'E'))\n",
        "print(\"Depth of node 'Z':\", find_depth(root, 'Z'))\n"
      ],
      "metadata": {
        "colab": {
          "base_uri": "https://localhost:8080/"
        },
        "id": "4kXLOdV4GN7C",
        "outputId": "0da23fd9-4d6a-4210-b476-6c7a8b60e21c"
      },
      "execution_count": null,
      "outputs": [
        {
          "output_type": "stream",
          "name": "stdout",
          "text": [
            "Depth of node 'A': 0\n",
            "Depth of node 'B': 1\n",
            "Depth of node 'E': 2\n",
            "Depth of node 'Z': -1\n"
          ]
        }
      ]
    },
    {
      "cell_type": "code",
      "source": [
        "class Node:\n",
        "    def __init__(self, value):\n",
        "        self.data = value\n",
        "        self.left = None\n",
        "        self.right = None\n",
        "\n",
        "def level_order_rec(root, level, res):\n",
        "    # Base case: If node is null, return\n",
        "    if root is None:\n",
        "        return\n",
        "\n",
        "    # Add a new level to the result if needed\n",
        "    if len(res) <= level:\n",
        "        res.append([])\n",
        "\n",
        "    # Add current node's data to its corresponding level\n",
        "    res[level].append(root.data)\n",
        "\n",
        "    # Recur for left and right children\n",
        "    level_order_rec(root.left, level + 1, res)\n",
        "    level_order_rec(root.right, level + 1, res)\n",
        "\n",
        "# Function to perform level order traversal\n",
        "def level_order(root):\n",
        "    # Stores the result level by level\n",
        "    res = []\n",
        "    level_order_rec(root, 0, res)\n",
        "    return res\n",
        "\n",
        "if __name__ == '__main__':\n",
        "    #      5\n",
        "    #     / \\\n",
        "    #   12   13\n",
        "    #   /  \\    \\\n",
        "    #  7    14    2\n",
        "    # /  \\   /  \\  / \\\n",
        "    #17  23 27  3  8  11\n",
        "\n",
        "    root = Node(5)\n",
        "    root.left = Node(12)\n",
        "    root.right = Node(13)\n",
        "\n",
        "    root.left.left = Node(7)\n",
        "    root.left.right = Node(14)\n",
        "\n",
        "    root.right.right = Node(2)\n",
        "\n",
        "    root.left.left.left = Node(17)\n",
        "    root.left.left.right = Node(23)\n",
        "\n",
        "    root.left.right.left = Node(27)\n",
        "    root.left.right.right = Node(3)\n",
        "\n",
        "    root.right.right.left = Node(8)\n",
        "    root.right.right.right = Node(11)\n",
        "\n",
        "    res = level_order(root)"
      ],
      "metadata": {
        "id": "68qFQJ2uWmKp"
      },
      "execution_count": null,
      "outputs": []
    },
    {
      "cell_type": "code",
      "source": [
        "res"
      ],
      "metadata": {
        "colab": {
          "base_uri": "https://localhost:8080/"
        },
        "id": "kdH_be_UW-wq",
        "outputId": "99153a26-9e90-4f3f-d559-986eb1a10944"
      },
      "execution_count": null,
      "outputs": [
        {
          "output_type": "execute_result",
          "data": {
            "text/plain": [
              "[[5], [12, 13], [7, 14, 2], [17, 23, 27, 3, 8, 11]]"
            ]
          },
          "metadata": {},
          "execution_count": 6
        }
      ]
    },
    {
      "cell_type": "code",
      "source": [
        "class Node:\n",
        "    def __init__(self, d):\n",
        "        self.data = d\n",
        "        self.left = None\n",
        "        self.right = None\n",
        "\n",
        "# Function to search for a value in the binary tree using DFS\n",
        "def searchDFS(root, value):\n",
        "    # Base case: If the tree is empty or we've reached a leaf node\n",
        "    if root is None:\n",
        "        return False\n",
        "    # If the node's data is equal to the value we are searching for\n",
        "    if root.data == value:\n",
        "        return True\n",
        "    # Recursively search in the left and right subtrees\n",
        "    left_res = searchDFS(root.left, value)\n",
        "    right_res = searchDFS(root.right, value)\n",
        "\n",
        "    return left_res or right_res\n",
        "\n",
        "if __name__ == \"__main__\":\n",
        "    root = Node(2)\n",
        "    root.left = Node(3)\n",
        "    root.right = Node(4)\n",
        "    root.left.left = Node(5)\n",
        "    root.left.right = Node(6)\n",
        "\n",
        "    value = 6\n",
        "    if searchDFS(root, value):\n",
        "        print(f\"{value} is found in the binary tree\")\n",
        "    else:\n",
        "        print(f\"{value} is not found in the binary tree\")"
      ],
      "metadata": {
        "colab": {
          "base_uri": "https://localhost:8080/"
        },
        "id": "1HvfC5Y0Ye9W",
        "outputId": "4854dd71-68e3-419d-ac7e-e070221d5696"
      },
      "execution_count": null,
      "outputs": [
        {
          "output_type": "stream",
          "name": "stdout",
          "text": [
            "6 is found in the binary tree\n"
          ]
        }
      ]
    },
    {
      "cell_type": "code",
      "source": [
        "from collections import deque\n",
        "\n",
        "class Node:\n",
        "    def __init__(self, d):\n",
        "        self.data = d\n",
        "        self.left = None\n",
        "        self.right = None\n",
        "\n",
        "# Function to insert a new node in the binary tree\n",
        "def insert(root, key):\n",
        "    if root is None:\n",
        "        return Node(key)\n",
        "\n",
        "    # Create a queue for level order traversal\n",
        "    queue = deque([root])\n",
        "\n",
        "    while queue:\n",
        "        temp = queue.popleft()\n",
        "\n",
        "        # If left child is empty, insert the new node here\n",
        "        if temp.left is None:\n",
        "            temp.left = Node(key)\n",
        "            break\n",
        "        else:\n",
        "            queue.append(temp.left)\n",
        "\n",
        "        # If right child is empty, insert the new node here\n",
        "        if temp.right is None:\n",
        "            temp.right = Node(key)\n",
        "            break\n",
        "        else:\n",
        "            queue.append(temp.right)\n",
        "\n",
        "    return root\n",
        "\n",
        "# In-order traversal\n",
        "def inorder(root):\n",
        "    if root is None:\n",
        "        return\n",
        "    inorder(root.left)\n",
        "    print(root.data, end=\" \")\n",
        "    inorder(root.right)\n",
        "\n",
        "if __name__ == \"__main__\":\n",
        "    root = Node(2)\n",
        "    root.left = Node(3)\n",
        "    root.right = Node(4)\n",
        "    root.left.left = Node(5)\n",
        "\n",
        "    print(\"Inorder traversal before insertion: \", end=\"\")\n",
        "    inorder(root)\n",
        "    print()\n",
        "\n",
        "    key = 6\n",
        "    root = insert(root, key)\n",
        "\n",
        "    print(\"Inorder traversal after insertion: \", end=\"\")\n",
        "    inorder(root)\n",
        "    print()"
      ],
      "metadata": {
        "colab": {
          "base_uri": "https://localhost:8080/"
        },
        "id": "hhup32nIV-G0",
        "outputId": "3dc9e488-9624-4b69-d9b4-583ad635bc71"
      },
      "execution_count": null,
      "outputs": [
        {
          "output_type": "stream",
          "name": "stdout",
          "text": [
            "Inorder traversal before insertion: 5 3 2 4 \n",
            "Inorder traversal after insertion: 5 3 6 2 4 \n"
          ]
        }
      ]
    },
    {
      "cell_type": "code",
      "source": [
        "from collections import deque\n",
        "\n",
        "class Node:\n",
        "    def __init__(self, d):\n",
        "        self.data = d\n",
        "        self.left = None\n",
        "        self.right = None\n",
        "\n",
        "# Function to delete a node from the binary tree\n",
        "def deleteNode(root, val):\n",
        "    if root is None:\n",
        "        return None\n",
        "\n",
        "    # Use a queue to perform BFS\n",
        "    queue = deque([root])\n",
        "    target = None\n",
        "\n",
        "    # Find the target node\n",
        "    while queue:\n",
        "        curr = queue.popleft()\n",
        "\n",
        "        if curr.data == val:\n",
        "            target = curr\n",
        "            break\n",
        "        if curr.left:\n",
        "            queue.append(curr.left)\n",
        "        if curr.right:\n",
        "            queue.append(curr.right)\n",
        "\n",
        "    if target is None:\n",
        "        return root\n",
        "\n",
        "    # Find the deepest rightmost node and its parent\n",
        "    last_node = None\n",
        "    last_parent = None\n",
        "    queue = deque([(root, None)])\n",
        "\n",
        "    while queue:\n",
        "        curr, parent = queue.popleft()\n",
        "        last_node = curr\n",
        "        last_parent = parent\n",
        "\n",
        "        if curr.left:\n",
        "            queue.append((curr.left, curr))\n",
        "        if curr.right:\n",
        "            queue.append((curr.right, curr))\n",
        "\n",
        "    # Replace target's value with the last node's value\n",
        "    target.data = last_node.data\n",
        "\n",
        "    # Remove the last node\n",
        "    if last_parent:\n",
        "        if last_parent.left == last_node:\n",
        "            last_parent.left = None\n",
        "        else:\n",
        "            last_parent.right = None\n",
        "    else:\n",
        "        return None\n",
        "    return root\n",
        "\n",
        "# In-order traversal\n",
        "def inorder(root):\n",
        "    if root is None:\n",
        "        return\n",
        "    inorder(root.left)\n",
        "    print(root.data, end=\" \")\n",
        "    inorder(root.right)\n",
        "\n",
        "if __name__ == \"__main__\":\n",
        "    root = Node(2)\n",
        "    root.left = Node(3)\n",
        "    root.right = Node(4)\n",
        "    root.left.left = Node(5)\n",
        "    root.left.right = Node(6)\n",
        "\n",
        "    print(\"Original tree (in-order): \", end=\"\")\n",
        "    inorder(root)\n",
        "    print()\n",
        "\n",
        "    val_to_del = 3\n",
        "    root = deleteNode(root, val_to_del)\n",
        "\n",
        "    print(f\"Tree after deleting {val_to_del} (in-order): \", end=\"\")\n",
        "    inorder(root)\n",
        "    print()"
      ],
      "metadata": {
        "colab": {
          "base_uri": "https://localhost:8080/"
        },
        "id": "rXnsPMgEaJRo",
        "outputId": "6d667d18-c683-4fbd-daf7-360d24fd1400"
      },
      "execution_count": null,
      "outputs": [
        {
          "output_type": "stream",
          "name": "stdout",
          "text": [
            "Original tree (in-order): 5 3 6 2 4 \n",
            "Tree after deleting 3 (in-order): 5 6 2 4 \n"
          ]
        }
      ]
    }
  ]
}