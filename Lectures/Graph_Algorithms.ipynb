{
  "cells": [
    {
      "cell_type": "code",
      "execution_count": 7,
      "metadata": {
        "colab": {
          "base_uri": "https://localhost:8080/"
        },
        "id": "xfP8uGjnraYy",
        "outputId": "8e96ce7a-9764-47f8-9666-95ef32f67fe4"
      },
      "outputs": [
        {
          "name": "stdout",
          "output_type": "stream",
          "text": [
            "A B C D E G F H I "
          ]
        }
      ],
      "source": [
        "# Function to find BFS of Graph from given source s\n",
        "def bfs(adj, start):\n",
        "\n",
        "    # get number of vertices\n",
        "    V = len(adj)\n",
        "\n",
        "    # create an array to store the traversal\n",
        "    res = []\n",
        "    # Create a queue for BFS\n",
        "    from collections import deque\n",
        "    q = deque()\n",
        "\n",
        "    # Initially mark all the vertices as not visited\n",
        "    visited = [False] * V\n",
        "\n",
        "    # Mark source node as visited and enqueue it\n",
        "    visited[start] = True\n",
        "    q.append(start)\n",
        "\n",
        "    # Iterate over the queue\n",
        "    while q:\n",
        "\n",
        "        # Dequeue a vertex from queue and store it\n",
        "        curr = q.popleft()\n",
        "        res.append(curr)\n",
        "\n",
        "        # Get all adjacent vertices of the dequeued\n",
        "        # vertex curr If an adjacent has not been\n",
        "        # visited, mark it visited and enqueue it\n",
        "        for x in adj[curr]:\n",
        "            if not visited[x]:\n",
        "                visited[x] = True\n",
        "                q.append(x)\n",
        "\n",
        "    return res\n",
        "\n",
        "\n",
        "if __name__ == \"__main__\":\n",
        "\n",
        "    # Map string vertices to integer indices\n",
        "    vertex_map = {\n",
        "        \"A\": 0, \"B\": 1, \"C\": 2, \"D\": 3, \"E\": 4,\n",
        "        \"F\": 5, \"G\": 6, \"H\": 7, \"I\": 8\n",
        "    }\n",
        "    reverse_map = {v: k for k, v in vertex_map.items()}\n",
        "\n",
        "    adj = [\n",
        "        [1, 2, 3],  # A: B, C, D\n",
        "        [4],        # B: E\n",
        "        [1, 6],     # C: B, G\n",
        "        [2, 6],     # D: C, G\n",
        "        [2, 5],     # E: C, F\n",
        "        [2, 7],     # F: C, H\n",
        "        [5, 7, 8],  # G: F, H, I\n",
        "        [4, 8],     # H: E, I\n",
        "        [5]         # I: F\n",
        "    ]\n",
        "\n",
        "\n",
        "    # Perform BFS starting from vertex \"A\"\n",
        "    ans = bfs(adj, vertex_map[\"A\"])\n",
        "    for i in ans:\n",
        "        print(reverse_map[i], end=\" \")"
      ]
    },
    {
      "cell_type": "code",
      "execution_count": 2,
      "metadata": {
        "colab": {
          "base_uri": "https://localhost:8080/"
        },
        "id": "MbzbgWrXr4FS",
        "outputId": "1cbe2a0c-eadf-49a0-9fe2-cd34fddd005d"
      },
      "outputs": [
        {
          "name": "stdout",
          "output_type": "stream",
          "text": [
            "0 1 2 3 4\n"
          ]
        }
      ],
      "source": [
        "def dfsRec(adj, visited, s, res):\n",
        "    visited[s] = True\n",
        "    res.append(s)\n",
        "\n",
        "    # Recursively visit all adjacent vertices that are not visited yet\n",
        "    for i in range(len(adj)):\n",
        "        if adj[s][i] == 1 and not visited[i]:\n",
        "            dfsRec(adj, visited, i, res)\n",
        "\n",
        "\n",
        "def DFS(adj):\n",
        "    visited = [False] * len(adj)\n",
        "    res = []\n",
        "    dfsRec(adj, visited, 0, res)  # Start DFS from vertex 0\n",
        "    return res\n",
        "\n",
        "\n",
        "def add_edge(adj, s, t):\n",
        "    adj[s][t] = 1\n",
        "    adj[t][s] = 1  # Since it's an undirected graph\n",
        "\n",
        "\n",
        "# Driver code\n",
        "V = 5\n",
        "adj = [[0] * V for _ in range(V)]  # Adjacency matrix\n",
        "\n",
        "# Define the edges of the graph\n",
        "edges = [(1, 2), (1, 0), (2, 0), (2, 3), (2, 4)]\n",
        "\n",
        "# Populate the adjacency matrix with edges\n",
        "for s, t in edges:\n",
        "    add_edge(adj, s, t)\n",
        "\n",
        "res = DFS(adj)  # Perform DFS\n",
        "print(\" \".join(map(str, res)))"
      ]
    }
  ],
  "metadata": {
    "colab": {
      "provenance": []
    },
    "kernelspec": {
      "display_name": "Python 3",
      "name": "python3"
    },
    "language_info": {
      "codemirror_mode": {
        "name": "ipython",
        "version": 3
      },
      "file_extension": ".py",
      "mimetype": "text/x-python",
      "name": "python",
      "nbconvert_exporter": "python",
      "pygments_lexer": "ipython3",
      "version": "3.12.2"
    }
  },
  "nbformat": 4,
  "nbformat_minor": 0
}
